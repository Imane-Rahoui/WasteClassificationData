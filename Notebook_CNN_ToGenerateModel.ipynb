{
 "cells": [
  {
   "cell_type": "markdown",
   "id": "2722cf58",
   "metadata": {},
   "source": [
    "## CNN"
   ]
  },
  {
   "cell_type": "code",
   "execution_count": 1,
   "id": "5c45e5cd",
   "metadata": {},
   "outputs": [],
   "source": [
    "from tensorflow.keras.models import Sequential\n",
    "from tensorflow.keras.layers import Conv2D, MaxPooling2D, Dense, Flatten\n",
    "from tensorflow.keras import optimizers\n",
    "from tensorflow.keras.callbacks import ModelCheckpoint"
   ]
  },
  {
   "cell_type": "code",
   "execution_count": 2,
   "id": "abb3f1b3",
   "metadata": {},
   "outputs": [],
   "source": [
    "import os, shutil"
   ]
  },
  {
   "cell_type": "markdown",
   "id": "478a37de",
   "metadata": {},
   "source": [
    "## Import Data"
   ]
  },
  {
   "cell_type": "code",
   "execution_count": 3,
   "id": "da48a431",
   "metadata": {},
   "outputs": [],
   "source": [
    "train_dir = 'DATASET/TRAIN/'\n",
    "test_dir = 'DATASET/TEST/'"
   ]
  },
  {
   "cell_type": "markdown",
   "id": "05f71740",
   "metadata": {},
   "source": [
    "## Explorer Data"
   ]
  },
  {
   "cell_type": "code",
   "execution_count": 4,
   "id": "4e85a754",
   "metadata": {
    "scrolled": true
   },
   "outputs": [
    {
     "name": "stdout",
     "output_type": "stream",
     "text": [
      "2\n",
      "9999\n"
     ]
    }
   ],
   "source": [
    "print(len(os.listdir(train_dir))) #nbr doss\n",
    "print(len(os.listdir(train_dir + 'R/'))) #nbr de photos dans le doss recyclable "
   ]
  },
  {
   "cell_type": "code",
   "execution_count": 5,
   "id": "8b94ddb1",
   "metadata": {},
   "outputs": [
    {
     "name": "stdout",
     "output_type": "stream",
     "text": [
      "Found 22564 images belonging to 2 classes.\n",
      "Found 2513 images belonging to 2 classes.\n"
     ]
    }
   ],
   "source": [
    "from tensorflow.keras.preprocessing.image import ImageDataGenerator\n",
    "\n",
    "train_datagen = ImageDataGenerator(rescale=1./255) #normaliser data \n",
    "test_datagen = ImageDataGenerator(rescale=1./255)\n",
    "\n",
    "train_generator = train_datagen.flow_from_directory(\n",
    "    train_dir, #where ur train data\n",
    "    target_size=(150,150), #size of input image\n",
    "    batch_size=32, \n",
    "    class_mode='binary'\n",
    ")\n",
    "\n",
    "test_generator = test_datagen.flow_from_directory(\n",
    "    test_dir,\n",
    "    target_size=(150,150),\n",
    "    batch_size=32,\n",
    "    class_mode='binary'\n",
    ")"
   ]
  },
  {
   "cell_type": "code",
   "execution_count": 6,
   "id": "4616e39c",
   "metadata": {},
   "outputs": [
    {
     "name": "stdout",
     "output_type": "stream",
     "text": [
      "Model: \"sequential\"\n",
      "_________________________________________________________________\n",
      " Layer (type)                Output Shape              Param #   \n",
      "=================================================================\n",
      " conv2d (Conv2D)             (None, 148, 148, 32)      896       \n",
      "                                                                 \n",
      " max_pooling2d (MaxPooling2D  (None, 74, 74, 32)       0         \n",
      " )                                                               \n",
      "                                                                 \n",
      " conv2d_1 (Conv2D)           (None, 72, 72, 64)        18496     \n",
      "                                                                 \n",
      " max_pooling2d_1 (MaxPooling  (None, 36, 36, 64)       0         \n",
      " 2D)                                                             \n",
      "                                                                 \n",
      " conv2d_2 (Conv2D)           (None, 34, 34, 128)       73856     \n",
      "                                                                 \n",
      " max_pooling2d_2 (MaxPooling  (None, 17, 17, 128)      0         \n",
      " 2D)                                                             \n",
      "                                                                 \n",
      " conv2d_3 (Conv2D)           (None, 15, 15, 128)       147584    \n",
      "                                                                 \n",
      " max_pooling2d_3 (MaxPooling  (None, 7, 7, 128)        0         \n",
      " 2D)                                                             \n",
      "                                                                 \n",
      " flatten (Flatten)           (None, 6272)              0         \n",
      "                                                                 \n",
      " dense (Dense)               (None, 512)               3211776   \n",
      "                                                                 \n",
      " dense_1 (Dense)             (None, 1)                 513       \n",
      "                                                                 \n",
      "=================================================================\n",
      "Total params: 3,453,121\n",
      "Trainable params: 3,453,121\n",
      "Non-trainable params: 0\n",
      "_________________________________________________________________\n"
     ]
    }
   ],
   "source": [
    "from tensorflow.keras import layers\n",
    "from tensorflow.keras import models\n",
    "\n",
    "model = models.Sequential(), #arranging the Keras layers in a sequential order \n"
    "model.add(layers.Conv2D(32, (3, 3), activation='relu',\n",
    "                       input_shape=(150, 150, 3)))\n",
    "model.add(layers.MaxPooling2D((2,2)))\n",
    "model.add(layers.Conv2D(64, (3,3), activation = 'relu'))\n",
    "model.add(layers.MaxPooling2D((2,2)))\n",
    "model.add(layers.Conv2D(128, (3,3), activation = 'relu'))\n",
    "model.add(layers.MaxPooling2D((2,2)))\n",
    "model.add(layers.Conv2D(128, (3,3), activation = 'relu'))\n",
    "model.add(layers.MaxPooling2D((2,2)))\n",
    "\n",
    "model.add(layers.Flatten())\n",
    "model.add(layers.Dense(512, activation ='relu'))\n",
    "model.add(layers.Dense(1, activation = 'sigmoid'))\n",
    "\n",
    "from tensorflow.keras.optimizers import RMSprop\n",
    "\n",
    "model.compile(loss= 'binary_crossentropy', # avant usena adam\n",
    "             optimizer=RMSprop(learning_rate=1e-4), # ??\n",
    "             metrics= ['acc']) #accuracy\n",
    "model.summary()"
   ]
  },
  {
   "cell_type": "markdown",
   "id": "33c44df9",
   "metadata": {},
   "source": [
    "## Save model"
   ]
  },
  {
   "cell_type": "code",
   "execution_count": 7,
   "id": "ba06c2ab",
   "metadata": {},
   "outputs": [],
   "source": [
    "checkpoint = ModelCheckpoint(filepath='./best_model.h5', monitor =\"val_acc\", mode='max',\n",
    "                            save_best_only =True, verbose = 1) #save the max only"
   ]
  },
  {
   "cell_type": "code",
   "execution_count": 8,
   "id": "e28ce656",
   "metadata": {},
   "outputs": [],
   "source": [
    "callbacks = [checkpoint]"
   ]
  },
  {
   "cell_type": "markdown",
   "id": "d68d2226",
   "metadata": {},
   "source": [
    "## Training"
   ]
  },
  {
   "cell_type": "code",
   "execution_count": null,
   "id": "2feb7053",
   "metadata": {},
   "outputs": [
    {
     "name": "stdout",
     "output_type": "stream",
     "text": [
      "Epoch 1/50\n",
      "705/705 [==============================] - ETA: 0s - loss: 0.4398 - acc: 0.8016\n",
      "Epoch 1: val_acc improved from -inf to 0.85497, saving model to .\\best_model.h5\n",
      "705/705 [==============================] - 568s 801ms/step - loss: 0.4398 - acc: 0.8016 - val_loss: 0.3685 - val_acc: 0.8550\n",
      "Epoch 2/50\n",
      "705/705 [==============================] - ETA: 0s - loss: 0.3902 - acc: 0.8313\n",
      "Epoch 2: val_acc improved from 0.85497 to 0.88822, saving model to .\\best_model.h5\n",
      "705/705 [==============================] - 526s 747ms/step - loss: 0.3902 - acc: 0.8313 - val_loss: 0.3012 - val_acc: 0.8882\n",
      "Epoch 3/50\n",
      "705/705 [==============================] - ETA: 0s - loss: 0.3663 - acc: 0.8436\n",
      "Epoch 3: val_acc did not improve from 0.88822\n",
      "705/705 [==============================] - 524s 744ms/step - loss: 0.3663 - acc: 0.8436 - val_loss: 0.3048 - val_acc: 0.8798\n",
      "Epoch 4/50\n",
      "705/705 [==============================] - ETA: 0s - loss: 0.3473 - acc: 0.8515\n",
      "Epoch 4: val_acc improved from 0.88822 to 0.89183, saving model to .\\best_model.h5\n",
      "705/705 [==============================] - 524s 744ms/step - loss: 0.3473 - acc: 0.8515 - val_loss: 0.2790 - val_acc: 0.8918\n",
      "Epoch 5/50\n",
      "705/705 [==============================] - ETA: 0s - loss: 0.3352 - acc: 0.8608\n",
      "Epoch 5: val_acc improved from 0.89183 to 0.89704, saving model to .\\best_model.h5\n",
      "705/705 [==============================] - 528s 748ms/step - loss: 0.3352 - acc: 0.8608 - val_loss: 0.2721 - val_acc: 0.8970\n",
      "Epoch 6/50\n",
      "705/705 [==============================] - ETA: 0s - loss: 0.3222 - acc: 0.8653\n",
      "Epoch 6: val_acc did not improve from 0.89704\n",
      "705/705 [==============================] - 524s 743ms/step - loss: 0.3222 - acc: 0.8653 - val_loss: 0.2862 - val_acc: 0.8902\n",
      "Epoch 7/50\n",
      " 49/705 [=>............................] - ETA: 7:53 - loss: 0.3084 - acc: 0.8737"
     ]
    }
   ],
   "source": [
    "history = model.fit(\n",
    "        train_generator,\n",
    "        steps_per_epoch=int(22564/32),\n",
    "        epochs=50, # nbr de fois\n",
    "        validation_data=test_generator,\n",
    "        validation_steps=int(2513/32),\n",
    "        callbacks=callbacks\n",
    ")\n",
    "#BATCH SIZE 32 IMG PAR 32"
   ]
  },
  {
   "cell_type": "code",
   "execution_count": null,
   "id": "6a9714b4",
   "metadata": {},
   "outputs": [],
   "source": [
    "#new-python-project\n",
    "#il faut ecrire | squelette projet flask \n",
    "    #templates <- index.html\n",
    "    #static :\n",
    "        # models : m.h5\n",
    "        # img :\n",
    "        # uploads : l'image li nta sifti | pas obligatoire\n",
    "    #main.py / app.py"
   ]
  },
  {
   "cell_type": "markdown",
   "id": "a5c73c5b",
   "metadata": {},
   "source": [
    "> recuperer l'image <br>\n",
    "> ajustement // hna mohim 150 150 <br>\n",
    "> predict <br>\n",
    "> 0.5 recyclable "
   ]
  },
  {
   "cell_type": "code",
   "execution_count": null,
   "id": "4a514a1f",
   "metadata": {},
   "outputs": [],
   "source": []
  }
 ],
 "metadata": {
  "kernelspec": {
   "display_name": "Python 3 (ipykernel)",
   "language": "python",
   "name": "python3"
  },
  "language_info": {
   "codemirror_mode": {
    "name": "ipython",
    "version": 3
   },
   "file_extension": ".py",
   "mimetype": "text/x-python",
   "name": "python",
   "nbconvert_exporter": "python",
   "pygments_lexer": "ipython3",
   "version": "3.10.6"
  }
 },
 "nbformat": 4,
 "nbformat_minor": 5
}
